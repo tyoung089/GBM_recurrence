{
 "cells": [
  {
   "cell_type": "code",
   "execution_count": 37,
   "metadata": {},
   "outputs": [],
   "source": [
    "import numpy as np\n",
    "import pandas as pd\n",
    "import os, glob\n",
    "import nibabel as nib"
   ]
  },
  {
   "cell_type": "code",
   "execution_count": 38,
   "metadata": {},
   "outputs": [],
   "source": [
    "# Call subjects from desired institution(this code only works for one institutions)\n",
    "seg_dir = 'segmentation images directory'\n",
    "roi_dir = 'Far and Near ROI images directory'\n",
    "\n",
    "# Sorted all the subjects in same orders\n",
    "segm_dir = sorted(glob.glob(os.path.join(seg_dir, \"*_segm*.nii.gz\")))\n",
    "near_dir = sorted(glob.glob(os.path.join(roi_dir, \"*_Infiltrated*.nii.gz\")))\n",
    "far_dir = sorted(glob.glob(os.path.join(roi_dir, \"*_Pure*.nii.gz\")))"
   ]
  },
  {
   "cell_type": "code",
   "execution_count": 39,
   "metadata": {},
   "outputs": [],
   "source": [
    "# Load nifti files into numpy array\n",
    "def LoadingImage(dir):\n",
    "    \n",
    "    nifti_image = nib.load(dir)\n",
    "    image = np.asarray(nifti_image.dataobj)\n",
    "    header = nifti_image.header\n",
    "    imgaffine = nifti_image.affine\n",
    "    \n",
    "    return image, header, imgaffine"
   ]
  },
  {
   "cell_type": "code",
   "execution_count": 40,
   "metadata": {},
   "outputs": [],
   "source": [
    "# Separately collects unique subject name from files name\n",
    "def getFilename(full_dir):\n",
    "    _,filename = full_dir.split('\\\\')\n",
    "    print(filename)\n",
    "    subject,_,_,_,_= filename.split('_')\n",
    "    return str(subject)"
   ]
  },
  {
   "cell_type": "code",
   "execution_count": 41,
   "metadata": {},
   "outputs": [],
   "source": [
    "# Randomly selects the voxels from assinged ROI\n",
    "def get_random_voxel_coordinates(label, n):\n",
    "    # Find the coordinates of voxels with value bigger than 0\n",
    "    one_coords = np.argwhere((label > 0))\n",
    "\n",
    "    # Grab x,y,z coordinate of the randomly selected voxels.\n",
    "    one_coords = one_coords[(one_coords[:, 0] >= 2) & (one_coords[:, 0] < label.shape[0] - 2) & \n",
    "                            (one_coords[:, 1] >= 2) & (one_coords[:, 1] < label.shape[1] - 2) & \n",
    "                            (one_coords[:, 2] >= 2) & (one_coords[:, 2] < label.shape[2] - 2)]\n",
    "\n",
    "    # Check if there are enough voxels with value 1\n",
    "    if len(one_coords) < n:\n",
    "        print(len(one_coords))\n",
    "        n = len(one_coords)\n",
    "\n",
    "    # Randomly select n coordinates\n",
    "    random_indices = np.random.choice(len(one_coords), n, replace=False)\n",
    "    random_coords = one_coords[random_indices]\n",
    "\n",
    "    return random_coords"
   ]
  },
  {
   "cell_type": "code",
   "execution_count": null,
   "metadata": {},
   "outputs": [],
   "source": [
    "for i in range(len(segm_dir)):\n",
    "\n",
    "    # Seg (240, 240, 155)\n",
    "    seg_img, seg_hdr, seg_imgaffine = LoadingImage(segm_dir[i])\n",
    "    # call near image (240, 240, 155)\n",
    "    near_img, near_hdr, near_imgaffine = LoadingImage(near_dir[i])\n",
    "    # call rec image (240, 240, 155)\n",
    "    far_img, far_hdr, far_imgaffine = LoadingImage(far_dir[i])\n",
    "\n",
    "    # select random n numbers of samples\n",
    "    n = 100\n",
    "    # apply function of random sampling\n",
    "    near_random_coords = get_random_voxel_coordinates(near_img, n)\n",
    "\n",
    "    far_random_coords = get_random_voxel_coordinates(far_img, n)\n",
    "\n",
    "    # filename\n",
    "    filename = getFilename(segm_dir[i])\n",
    "\n",
    "    # Save the randomly selected coordinates to a CSV file\n",
    "    near_df = pd.DataFrame(near_random_coords, columns=['x', 'y', 'z'])\n",
    "    near_df.to_csv('save csv file with selected coordinates into ouput directory', index=False)\n",
    "\n",
    "    # Save the randomly selected coordinates to a CSV file\n",
    "    far_df = pd.DataFrame(far_random_coords, columns=['x', 'y', 'z'])\n",
    "    far_df.to_csv('save csv file with selected coordinates into ouput directory', index=False)"
   ]
  }
 ],
 "metadata": {
  "kernelspec": {
   "display_name": "deep",
   "language": "python",
   "name": "python3"
  },
  "language_info": {
   "codemirror_mode": {
    "name": "ipython",
    "version": 3
   },
   "file_extension": ".py",
   "mimetype": "text/x-python",
   "name": "python",
   "nbconvert_exporter": "python",
   "pygments_lexer": "ipython3",
   "version": "3.9.7"
  },
  "orig_nbformat": 4
 },
 "nbformat": 4,
 "nbformat_minor": 2
}
