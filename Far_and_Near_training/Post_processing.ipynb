{
 "cells": [
  {
   "cell_type": "code",
   "execution_count": 1,
   "metadata": {},
   "outputs": [],
   "source": [
    "import numpy as np\n",
    "import pandas as pd\n",
    "import os, glob\n",
    "import nibabel as nib"
   ]
  },
  {
   "cell_type": "code",
   "execution_count": 2,
   "metadata": {},
   "outputs": [],
   "source": [
    "# Call 109 subjects for seg\n",
    "seg_dir = 'segmentation images directory'\n",
    "prob_dir = 'Directory for probaility maps for each institution'\n",
    "\n",
    "segm_dir = sorted(glob.glob(os.path.join(seg_dir, \"*_seg*.nii.gz\"))) \n",
    "probailitymap_dir = sorted(glob.glob(os.path.join(prob_dir, \"*_noPool*.nii.gz\"))) "
   ]
  },
  {
   "cell_type": "code",
   "execution_count": 3,
   "metadata": {},
   "outputs": [],
   "source": [
    "# Load nifti files\n",
    "def LoadingImage(dir):\n",
    "    \n",
    "    nifti_image = nib.load(dir)\n",
    "    image = np.asarray(nifti_image.dataobj)\n",
    "    header = nifti_image.header\n",
    "    imgaffine = nifti_image.affine\n",
    "    \n",
    "    return image, header, imgaffine"
   ]
  },
  {
   "cell_type": "code",
   "execution_count": 4,
   "metadata": {},
   "outputs": [],
   "source": [
    "# Separately collects unique subject name from files name\n",
    "def getFilename(full_dir):\n",
    "    _,filename = full_dir.split('\\\\')\n",
    "    print(filename)\n",
    "    subject,_,_,_,_= filename.split('_')\n",
    "    return str(subject)"
   ]
  },
  {
   "cell_type": "code",
   "execution_count": 5,
   "metadata": {},
   "outputs": [],
   "source": [
    "# Smoothing the probaility map by averaging around center voxel\n",
    "# apply average only counting values in edema\n",
    "def patch_average(image, seg_labels, label=2, patch_size=(5,5,5)):\n",
    "    # Get the dimensions of the image\n",
    "    dim_x, dim_y, dim_z = image.shape\n",
    "    p_x, p_y, p_z = [size // 2 for size in patch_size]  # Size of patch in each dimension\n",
    "\n",
    "    # Find voxels with the given label\n",
    "    voxels = np.array(np.where(seg_labels == label)).T\n",
    "\n",
    "    # Create a copy of the original image to avoid altering it\n",
    "    avg_image = image.copy()\n",
    "\n",
    "    # Iterate over these voxels, calculate the averages of the patches and replace the voxel values\n",
    "    for voxel in voxels:\n",
    "        x, y, z = voxel\n",
    "        # Define the patch boundaries while taking care of the image boundaries\n",
    "        x_start, x_end = max(0, x - p_x), min(dim_x, x + p_x + 1)\n",
    "        y_start, y_end = max(0, y - p_y), min(dim_y, y + p_y + 1)\n",
    "        z_start, z_end = max(0, z - p_z), min(dim_z, z + p_z + 1)\n",
    "\n",
    "        # Extract the image patch\n",
    "        img_patch = image[x_start:x_end, y_start:y_end, z_start:z_end]\n",
    "\n",
    "        # Extract the corresponding segmentation patch\n",
    "        seg_patch = seg_labels[x_start:x_end, y_start:y_end, z_start:z_end]\n",
    "\n",
    "        # Mask the image patch with the segmentation patch\n",
    "        masked_patch = img_patch[seg_patch == label]\n",
    "\n",
    "        # Calculate the average of the masked patch\n",
    "        patch_mean = masked_patch.mean()\n",
    "\n",
    "        # If the average is zero, add 0.05\n",
    "        if patch_mean == 0:\n",
    "            patch_mean += 0.05\n",
    "\n",
    "        # Replace the voxel value\n",
    "        avg_image[x, y, z] = patch_mean\n",
    "\n",
    "    return avg_image"
   ]
  },
  {
   "cell_type": "code",
   "execution_count": null,
   "metadata": {},
   "outputs": [],
   "source": [
    "for i in range(len(segm_dir)):\n",
    "    # Seg (240, 240, 155)\n",
    "    seg_img, seg_hdr, seg_imgaffine = LoadingImage(segm_dir[i])\n",
    "    # binary (240, 240, 155)\n",
    "    binary_img, binary_hdr, binary_imgaffine = LoadingImage(probailitymap_dir[i])\n",
    "\n",
    "    # Average smoothing\n",
    "    avg_image = patch_average(binary_img, seg_img)\n",
    "\n",
    "    # Binarize the data\n",
    "    binary_image = np.where(avg_image > 0.8, 1, 0)\n",
    "\n",
    "    # filename\n",
    "    filename = getFilename(segm_dir[i])\n",
    "\n",
    "    # Save the output\n",
    "    nifti_img = nib.Nifti1Image(binary_image, seg_imgaffine, seg_hdr)\n",
    "    nib.save(nifti_img, f'save it into desired output directory')"
   ]
  }
 ],
 "metadata": {
  "kernelspec": {
   "display_name": "deep",
   "language": "python",
   "name": "python3"
  },
  "language_info": {
   "codemirror_mode": {
    "name": "ipython",
    "version": 3
   },
   "file_extension": ".py",
   "mimetype": "text/x-python",
   "name": "python",
   "nbconvert_exporter": "python",
   "pygments_lexer": "ipython3",
   "version": "3.9.7"
  },
  "orig_nbformat": 4
 },
 "nbformat": 4,
 "nbformat_minor": 2
}
